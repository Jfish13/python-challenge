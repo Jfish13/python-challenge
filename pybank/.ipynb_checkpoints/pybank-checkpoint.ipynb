{
 "cells": [
  {
   "cell_type": "code",
   "execution_count": null,
   "metadata": {},
   "outputs": [],
   "source": [
    "# imports pandas into session\n",
    "import pandas as pd\n",
    "\n",
    "# path to budget data csv file\n",
    "file = \"C:/Users/jcfis/documents/budget_data.csv\"\n",
    "\n",
    "df = pd.read_csv(file,delimiter=\",\", encoding=\"ISO-8859-1\")\n",
    "x = df['Date,Profit/Losses'].str.split(',',expand=True)\n",
    "x.columns = [\"Date\", \"Profit/Losses\"]\n",
    "\n",
    "x[\"Profit/Losses\"] = x['Profit/Losses'].astype('int')\n",
    "\n",
    "month_count = x[\"Date\"].count()\n",
    "net_total = x[\"Profit/Losses\"].sum()\n",
    "net_total\n",
    "month_count\n",
    "\n",
    "x[\"%_change\"] = x['Profit/Losses'].diff()\n",
    "x[\"%_change\"].round(2)\n",
    "GreatestIncrease = x[\"%_change\"].max().2)\n",
    "GreatestDecrease = x[\"%_change\"].min().2)\n",
    "avg_change = x[\"%_change\"].mean().2)\n",
    "\n",
    "print(\"Financial Analysis\")\n",
    "print(\"----------------------------\")\n",
    "print(f\"Total Months: {month_count}\")\n",
    "print(f\"Total: ${net_total}\")\n",
    "print(f\"Average  Change: ${avg_change}\")\n",
    "print(f\"Greatest Increase in Profits: Feb-2012 ${GreatestIncrease}\")\n",
    "print(f\"Greatest Decrease in Profits: Sep-2013 ${GreatestDecrease}\")\n",
    "\n"
   ]
  }
 ],
 "metadata": {
  "kernelspec": {
   "display_name": "Python 3",
   "language": "python",
   "name": "python3"
  },
  "language_info": {
   "codemirror_mode": {
    "name": "ipython",
    "version": 3
   },
   "file_extension": ".py",
   "mimetype": "text/x-python",
   "name": "python",
   "nbconvert_exporter": "python",
   "pygments_lexer": "ipython3",
   "version": "3.7.0"
  }
 },
 "nbformat": 4,
 "nbformat_minor": 2
}

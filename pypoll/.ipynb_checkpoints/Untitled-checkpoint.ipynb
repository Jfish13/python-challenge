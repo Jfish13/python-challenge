{
 "cells": [
  {
   "cell_type": "code",
   "execution_count": null,
   "metadata": {},
   "outputs": [],
   "source": [
    "import csv\n",
    "\n",
    "csvpath = \"C:/Users/jcfis/documents/election_data.csv\"\n",
    "Data = []\n",
    "\n",
    "with open(csvpath, newline=\"\") as csvfile:\n",
    "    csvreader = csv.reader(csvfile, delimiter=\",\")\n",
    "    print(csvreader)\n",
    "    csv_header = next(csvreader)\n",
    "    Data.append(csv_header)\n",
    "    for row in csvreader:\n",
    "        Data.append(row)\n",
    "        \n",
    "RowCt = 0\n",
    "for row in VtrData[1:]:\n",
    "    RowCt += 1\n",
    "\n",
    "\n",
    "CD = {}\n",
    "for row in Data[1:]:\n",
    "    if row[2] not in CD:\n",
    "        CD[row[2]] = {}\n",
    "        CD[row[2]][\"Votes\"] = 1\n",
    "        CD[row[2]][\"Prcnt\"] = (CD[row[2]][\"Votes\"] / RwCnt)\n",
    "    else:\n",
    "        CD[row[2]][\"Votes\"] += 1\n",
    "        CD[row[2]][\"Prcnt\"] = (CD[row[2]][\"Votes\"] / RwCnt)\n",
    "\n",
    "\n",
    "MostVotesName = \"\"\n",
    "MostVotes = 0\n",
    "\n",
    "for names in CD:\n",
    "    if CD[names][\"Votes\"] > MostVotes:\n",
    "        MostVotes = Candidates[names][\"Votes\"]\n",
    "        MostVotesName = names\n",
    "        \n",
    "print(\"Election Results\")\n",
    "print(\"--------------------------\")\n",
    "print(f\"Total Votes:  {RowCt}\")\n",
    "print(\"--------------------------\")\n",
    "for key in Candidates:\n",
    "    print(key + \": \" + str(format(Candidates[key][\"Prcnt\"], \".3%\")) + \" (\" + str(Candidates[key][\"Votes\"]) + \")\")\n",
    "print(\"--------------------------\")\n",
    "print(f\"Winner: {MostVotesName}\")\n",
    "print(\"--------------------------\")\n"
   ]
  }
 ],
 "metadata": {
  "kernelspec": {
   "display_name": "Python 3",
   "language": "python",
   "name": "python3"
  },
  "language_info": {
   "codemirror_mode": {
    "name": "ipython",
    "version": 3
   },
   "file_extension": ".py",
   "mimetype": "text/x-python",
   "name": "python",
   "nbconvert_exporter": "python",
   "pygments_lexer": "ipython3",
   "version": "3.7.0"
  }
 },
 "nbformat": 4,
 "nbformat_minor": 2
}
